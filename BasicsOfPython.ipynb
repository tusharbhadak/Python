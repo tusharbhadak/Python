{
  "nbformat": 4,
  "nbformat_minor": 0,
  "metadata": {
    "colab": {
      "name": "Assignment1.ipynb",
      "provenance": [],
      "collapsed_sections": [],
      "authorship_tag": "ABX9TyO47z13vfZcY/WHfEg/vIfO",
      "include_colab_link": true
    },
    "kernelspec": {
      "name": "python3",
      "display_name": "Python 3"
    }
  },
  "cells": [
    {
      "cell_type": "markdown",
      "metadata": {
        "id": "view-in-github",
        "colab_type": "text"
      },
      "source": [
        "<a href=\"https://colab.research.google.com/github/tusharbhadak/Python/blob/main/BasicsOfPython.ipynb\" target=\"_parent\"><img src=\"https://colab.research.google.com/assets/colab-badge.svg\" alt=\"Open In Colab\"/></a>"
      ]
    },
    {
      "cell_type": "markdown",
      "metadata": {
        "id": "KbdObjIR5x9o"
      },
      "source": [
        "Python Assignment :-\n",
        "\n",
        "1. Given a two integer numbers return their product and  if the product is greater than 1000, then return their sum."
      ]
    },
    {
      "cell_type": "code",
      "metadata": {
        "id": "QvckBWau6d_q",
        "outputId": "c6f14873-bc41-440b-f7f2-604fdfbddc39",
        "colab": {
          "base_uri": "https://localhost:8080/"
        }
      },
      "source": [
        "num1 = int(input(\"Enter the First number :- \"))\n",
        "num2 = int(input(\"Enter the Second number :- \"))\n",
        "\n",
        "def product_or_sum(n1,n2):\n",
        "  num=n1*n2\n",
        "  if(num<1000):\n",
        "     return num\n",
        "  else:\n",
        "     return n1+n2\n",
        "result=product_or_sum(num1,num2)\n",
        "print(\"Result :- \",result)     \n",
        "       "
      ],
      "execution_count": 17,
      "outputs": [
        {
          "output_type": "stream",
          "text": [
            "Enter the First number :- 20\n",
            "Enter the Second number :- 80\n",
            "Result :-  100\n"
          ],
          "name": "stdout"
        }
      ]
    },
    {
      "cell_type": "markdown",
      "metadata": {
        "id": "JihfhnvvBDmQ"
      },
      "source": [
        "2. Given a range of first 10 numbers, Iterate from start number to the end number and print the sum of the current number and previous number"
      ]
    },
    {
      "cell_type": "code",
      "metadata": {
        "id": "Rw5vO5NQBF4U",
        "outputId": "f52d0952-5b59-4d75-e9df-a7b0f6f7522b",
        "colab": {
          "base_uri": "https://localhost:8080/",
          "height": 204
        }
      },
      "source": [
        "def sum(number):\n",
        "  previousnum=0\n",
        "  for i in range(number):\n",
        "    sum=previousnum+i\n",
        "    print(\"Current Number\", i, \"Previous Number \", previousnum,\" Sum: \", sum)\n",
        "    previousnum=i\n",
        "\n",
        "print(\"Sum of current and previous number in the given range :- \")\n",
        "sum(10)    \n",
        "\n"
      ],
      "execution_count": null,
      "outputs": [
        {
          "output_type": "stream",
          "text": [
            "Sum of current and previous nuber in the given range :- \n",
            "Current Number 0 Previous Number  0  Sum:  0\n",
            "Current Number 1 Previous Number  0  Sum:  1\n",
            "Current Number 2 Previous Number  1  Sum:  3\n",
            "Current Number 3 Previous Number  2  Sum:  5\n",
            "Current Number 4 Previous Number  3  Sum:  7\n",
            "Current Number 5 Previous Number  4  Sum:  9\n",
            "Current Number 6 Previous Number  5  Sum:  11\n",
            "Current Number 7 Previous Number  6  Sum:  13\n",
            "Current Number 8 Previous Number  7  Sum:  15\n",
            "Current Number 9 Previous Number  8  Sum:  17\n"
          ],
          "name": "stdout"
        }
      ]
    },
    {
      "cell_type": "markdown",
      "metadata": {
        "id": "0HtIVIksQCwI"
      },
      "source": [
        "3. Given a string, display only those characters which are present at an even index number."
      ]
    },
    {
      "cell_type": "code",
      "metadata": {
        "id": "1VU4eqSnQU6N",
        "outputId": "e8f7cbf6-af1e-4207-d613-63f97e79e9b5",
        "colab": {
          "base_uri": "https://localhost:8080/"
        }
      },
      "source": [
        "string=(input(\"Enter the String :- \\n\"))\n",
        "even_str=string[::2]\n",
        "print(even_str)"
      ],
      "execution_count": 43,
      "outputs": [
        {
          "output_type": "stream",
          "text": [
            "Enter the String :- \n",
            "python\n",
            "pto\n"
          ],
          "name": "stdout"
        }
      ]
    },
    {
      "cell_type": "markdown",
      "metadata": {
        "id": "fjnMI35jSbAM"
      },
      "source": [
        "4. Given a list of numbers, return True if first and last number of a list is same"
      ]
    },
    {
      "cell_type": "code",
      "metadata": {
        "id": "eCZr5ZN4SeGN",
        "outputId": "7d031b27-33e3-48cf-c8a3-11fcba438366",
        "colab": {
          "base_uri": "https://localhost:8080/"
        }
      },
      "source": [
        "\n",
        "#num=[10,20,30,4,50,10] \n",
        "num = int(input(\"Enter number of elements : \"))  \n",
        "a = list(map(int,input(\"\\nEnter the numbers : \").strip().split()))[:num] \n",
        "  \n",
        "print(\"\\nList is - \", a) \n",
        "\n",
        "def first_last(numlist):\n",
        "  firstnum=a[0]\n",
        "  lastnum=a[-1]\n",
        "  if (firstnum==lastnum):\n",
        "    return True\n",
        "  else:\n",
        "    return False \n",
        "\n",
        "print(\"Result :- \", first_last(num))\n",
        "  "
      ],
      "execution_count": 45,
      "outputs": [
        {
          "output_type": "stream",
          "text": [
            "Enter number of elements : 4\n",
            "\n",
            "Enter the numbers : 10 20 30 40 \n",
            "\n",
            "List is -  [10, 20, 30, 40]\n",
            "Result :-  False\n"
          ],
          "name": "stdout"
        }
      ]
    },
    {
      "cell_type": "markdown",
      "metadata": {
        "id": "TAUj-ePFVYqW"
      },
      "source": [
        "5. Given a two list. Create a third list by picking an odd-index element from the first list and even index elements from second."
      ]
    },
    {
      "cell_type": "code",
      "metadata": {
        "id": "A22vV4CVVdNL",
        "outputId": "3c4837d5-dbe9-4b2d-afa5-8c8e8eac5130",
        "colab": {
          "base_uri": "https://localhost:8080/",
          "height": 119
        }
      },
      "source": [
        "a1=[10,20,30,40,50,60]\n",
        "a2=[100,200,300,400,500]\n",
        "\n",
        "listThree = list()\n",
        "\n",
        "oddElements = a1[1::2]\n",
        "print(\"Element at odd-index positions from list one\")\n",
        "print(oddElements)\n",
        "\n",
        "EvenElement = a2[0::2]\n",
        "print(\"Element at even-index positions from list two\")\n",
        "print(EvenElement)\n",
        "\n",
        "print(\"Printing Final third list\")\n",
        "listThree.extend(oddElements)\n",
        "listThree.extend(EvenElement)\n",
        "print(listThree)"
      ],
      "execution_count": null,
      "outputs": [
        {
          "output_type": "stream",
          "text": [
            "Element at odd-index positions from list one\n",
            "[20, 40, 60]\n",
            "Element at even-index positions from list two\n",
            "[100, 300, 500]\n",
            "Printing Final third list\n",
            "[20, 40, 60, 100, 300, 500]\n"
          ],
          "name": "stdout"
        }
      ]
    },
    {
      "cell_type": "markdown",
      "metadata": {
        "id": "WzZrlP9KWere"
      },
      "source": [
        "6. Given an input list removes the element at index 4 and add it to the 2nd position and also, at the end of the list"
      ]
    },
    {
      "cell_type": "code",
      "metadata": {
        "id": "5kTgEymxWjvN",
        "outputId": "fbce9c9f-6d18-460e-9837-0165abc17adf",
        "colab": {
          "base_uri": "https://localhost:8080/"
        }
      },
      "source": [
        "numberList = []\n",
        "n = int(input(\"Enter the list size more than 5 : \"))\n",
        "\n",
        "print(\"\\n\")\n",
        "for i in range(0, n):\n",
        "    print(\"Enter number at location\", i, \":\")\n",
        "    item = int(input())\n",
        "    numberList.append(item)\n",
        "print(\"User List is :- \\n\", numberList)\n",
        "\n",
        "#removing element at index 4\n",
        "element=numberList.pop(4)\n",
        "print(\"Updated User List is :- \\n\", numberList)\n",
        "\n",
        "#adding element to the 2nd position\n",
        "numberList.insert(2, element)\n",
        "print(\"List after Adding element at index 2 :- \\n\", numberList)\n",
        "\n",
        "#adding element at the end of the list\n",
        "numberList.append(element)\n",
        "print(\"List after Adding element at last :- \", numberList)"
      ],
      "execution_count": 47,
      "outputs": [
        {
          "output_type": "stream",
          "text": [
            "Enter the list size : 5\n",
            "\n",
            "\n",
            "Enter number at location 0 :\n",
            "1\n",
            "Enter number at location 1 :\n",
            "2\n",
            "Enter number at location 2 :\n",
            "3\n",
            "Enter number at location 3 :\n",
            "4\n",
            "Enter number at location 4 :\n",
            "5\n",
            "User List is :- \n",
            " [1, 2, 3, 4, 5]\n",
            "Updated User List is :- \n",
            " [1, 2, 3, 4]\n",
            "List after Adding element at index 2 :- \n",
            " [1, 2, 5, 3, 4]\n",
            "List after Adding element at last :-  [1, 2, 5, 3, 4, 5]\n"
          ],
          "name": "stdout"
        }
      ]
    },
    {
      "cell_type": "markdown",
      "metadata": {
        "id": "2_hATei3ai7G"
      },
      "source": [
        "7. Given a list slice it into a 3 equal chunks and rever each list"
      ]
    },
    {
      "cell_type": "code",
      "metadata": {
        "id": "YTxTv3f5alwE",
        "outputId": "c999e7ca-0651-40d4-9826-50a1889bae96",
        "colab": {
          "base_uri": "https://localhost:8080/"
        }
      },
      "source": [
        "numberList = [1,2,3,4,5,6,7,8,9]\n",
        "print(\"Original List is :- \\n\", numberList)\n",
        "\n",
        "length = len(numberList)\n",
        "if(length%3 != 0):\n",
        "  print(\"Enter the list size that is divisible by 3\")\n",
        "else:  \n",
        "  chunkSize  = int(length/3)\n",
        "  start = 0\n",
        "  end = chunkSize\n",
        "  for i in range(1, 4, 1):\n",
        "    indexes = slice(start, end, 1)\n",
        "    listChunk = numberList[indexes]\n",
        "    print(\"Chunk \", i ,\":- \", listChunk)\n",
        "    print(\"After reversing it :- \", list(reversed(listChunk)))\n",
        "    start = end\n",
        "    if(i != 2):\n",
        "      end +=chunkSize\n",
        "    else:\n",
        "      end += length - chunkSize"
      ],
      "execution_count": 50,
      "outputs": [
        {
          "output_type": "stream",
          "text": [
            "Original List is :- \n",
            " [1, 2, 3, 4, 5, 6, 7, 8, 9]\n",
            "Chunk  1 :-  [1, 2, 3]\n",
            "After reversing it :-  [3, 2, 1]\n",
            "Chunk  2 :-  [4, 5, 6]\n",
            "After reversing it :-  [6, 5, 4]\n",
            "Chunk  3 :-  [7, 8, 9]\n",
            "After reversing it :-  [9, 8, 7]\n"
          ],
          "name": "stdout"
        }
      ]
    },
    {
      "cell_type": "markdown",
      "metadata": {
        "id": "V70Qu9_mbMFW"
      },
      "source": [
        "8. Given a list iterate it and count the occurrence of each element and create a\n",
        "dictionary to show the count of each element"
      ]
    },
    {
      "cell_type": "code",
      "metadata": {
        "id": "syX8TX18bPbd",
        "outputId": "033a88ae-0976-4606-b1b2-a590cf9fd5b6",
        "colab": {
          "base_uri": "https://localhost:8080/",
          "height": 51
        }
      },
      "source": [
        "numList = [2,4,6,3,4,5,6,8,1,2,5,2,4,2]\n",
        "print(\"Original list \", numList)\n",
        "\n",
        "countDict = dict()\n",
        "for item in numList:\n",
        "  if(item in countDict):\n",
        "    countDict[item] += 1\n",
        "  else:\n",
        "    countDict[item] = 1\n",
        "  \n",
        "print(\"Printing count of each item  \",countDict)"
      ],
      "execution_count": null,
      "outputs": [
        {
          "output_type": "stream",
          "text": [
            "Original list  [2, 4, 6, 3, 4, 5, 6, 8, 1, 2, 5, 2, 4, 2]\n",
            "Printing count of each item   {2: 4, 4: 3, 6: 2, 3: 1, 5: 2, 8: 1, 1: 1}\n"
          ],
          "name": "stdout"
        }
      ]
    },
    {
      "cell_type": "markdown",
      "metadata": {
        "id": "O19GaK1ub6Sc"
      },
      "source": [
        "9. Add a list of elements to a given set: {‘yellow’,’orange’} List:[blue,black]"
      ]
    },
    {
      "cell_type": "code",
      "metadata": {
        "id": "yPA6IuJSb9f0",
        "outputId": "9ca54bef-2bb6-404d-8e3d-1362f7414584",
        "colab": {
          "base_uri": "https://localhost:8080/",
          "height": 34
        }
      },
      "source": [
        "#colorset=set(['yellow','orange'])\n",
        "colorset={'yellow','orange'}\n",
        "colorlist=['blue','black']\n",
        "colorset.update(colorlist)\n",
        "print(colorset)"
      ],
      "execution_count": null,
      "outputs": [
        {
          "output_type": "stream",
          "text": [
            "{'yellow', 'blue', 'black', 'orange'}\n"
          ],
          "name": "stdout"
        }
      ]
    },
    {
      "cell_type": "markdown",
      "metadata": {
        "id": "odjZf2p9djE8"
      },
      "source": [
        "10. Print the following pattern\n",
        "\n",
        "1 \n",
        "\n",
        "1 2 \n",
        "\n",
        "1 2 3\n",
        "\n",
        "1 2 3 4 \n",
        "\n",
        "1 2 3 4 5\n"
      ]
    },
    {
      "cell_type": "code",
      "metadata": {
        "id": "iB92qOnAd_IY",
        "outputId": "fc49bf5f-a7a1-459e-de03-c2f6b9cc9ce6",
        "colab": {
          "base_uri": "https://localhost:8080/",
          "height": 102
        }
      },
      "source": [
        "rows = 5\n",
        "for row in range(1, rows+1):\n",
        "    for column in range(1, row + 1):\n",
        "        print(column, end=' ')\n",
        "    print(\"\")\n"
      ],
      "execution_count": null,
      "outputs": [
        {
          "output_type": "stream",
          "text": [
            "1 \n",
            "1 2 \n",
            "1 2 3 \n",
            "1 2 3 4 \n",
            "1 2 3 4 5 \n"
          ],
          "name": "stdout"
        }
      ]
    },
    {
      "cell_type": "markdown",
      "metadata": {
        "id": "im5IOgnoePWN"
      },
      "source": [
        "calculate the sum of all number between 1 and given number"
      ]
    },
    {
      "cell_type": "code",
      "metadata": {
        "id": "zDlQitgoeSyt",
        "outputId": "a130b8ad-c8be-425c-9b8e-aa447e6786fd",
        "colab": {
          "base_uri": "https://localhost:8080/"
        }
      },
      "source": [
        "num = int(input(\"Enter the number :-\"))\n",
        "sum = 0\n",
        "for i in range(2,num):\n",
        "  sum += i\n",
        "print(\"Total sum :- \",sum)"
      ],
      "execution_count": 52,
      "outputs": [
        {
          "output_type": "stream",
          "text": [
            "Enter the number :-5\n",
            "Total sum :-  9\n"
          ],
          "name": "stdout"
        }
      ]
    },
    {
      "cell_type": "markdown",
      "metadata": {
        "id": "0MmXucMWfz-r"
      },
      "source": [
        "Given a list iterate it and display numbers which are divisible by 5 and if you find number greater than 150 stop the loop iteration"
      ]
    },
    {
      "cell_type": "code",
      "metadata": {
        "id": "eVTMipolf34B",
        "outputId": "4461adce-bdd9-4191-8c09-28007b48a78d",
        "colab": {
          "base_uri": "https://localhost:8080/"
        }
      },
      "source": [
        "\"\"\"\n",
        "list1 = []\n",
        "n = int(input(\"Enter the list size : \"))\n",
        "\n",
        "print(\"\\n\")\n",
        "for i in range(0, n):\n",
        "    print(\"Enter number at location\", i, \":\")\n",
        "    item = int(input())\n",
        "    numberList.append(item)\n",
        "print(\"User List is :- \\n\", list18)\n",
        "\"\"\"\n",
        "list1=[20,15,45,20,36,47,100,125,140,148,150,165,151,180,5]\n",
        "list1.sort()\n",
        "\n",
        "for item in list1:\n",
        "    if (item > 150):\n",
        "        break\n",
        "    if(item % 5 == 0):\n",
        "        print(item)"
      ],
      "execution_count": 56,
      "outputs": [
        {
          "output_type": "stream",
          "text": [
            "5\n",
            "15\n",
            "20\n",
            "20\n",
            "45\n",
            "100\n",
            "125\n",
            "140\n",
            "150\n"
          ],
          "name": "stdout"
        }
      ]
    },
    {
      "cell_type": "markdown",
      "metadata": {
        "id": "LKRChN0On-Ow"
      },
      "source": [
        "13. Reverse the following list using for loop\n",
        "\n",
        "List1 = [10,20,30,40]"
      ]
    },
    {
      "cell_type": "code",
      "metadata": {
        "id": "bJeCaYMmemXu",
        "outputId": "17800eb4-cea4-4eaf-fb9c-b23a48714fc7",
        "colab": {
          "base_uri": "https://localhost:8080/"
        }
      },
      "source": [
        "# Reversing a list using reverse() \n",
        "list1=[10,20,30,40]\n",
        "list2 = list()\n",
        "for i in range(0,len(list1)):\n",
        "  list2.append(list1[-i-1])\n",
        "\n",
        "print(list2)\n",
        "      "
      ],
      "execution_count": 61,
      "outputs": [
        {
          "output_type": "stream",
          "text": [
            "[40, 30, 20, 10]\n"
          ],
          "name": "stdout"
        }
      ]
    },
    {
      "cell_type": "markdown",
      "metadata": {
        "id": "71QI_jmZfHDe"
      },
      "source": [
        "Python program to display all the prime numbers within a range"
      ]
    },
    {
      "cell_type": "code",
      "metadata": {
        "id": "RMackgpxfKol",
        "outputId": "3c7f078f-beb1-480f-b686-5d4b91947a2f",
        "colab": {
          "base_uri": "https://localhost:8080/"
        }
      },
      "source": [
        "# Python program to display all the prime numbers within an interval\n",
        "\n",
        "num1 = int(input(\"Enter the lower number :- \"))\n",
        "num2 = int(input(\"Enter the Upper number :- \"))\n",
        "\n",
        "print(\"Prime numbers between\", num1, \"and\", num2, \"are :-\")\n",
        "\n",
        "for num in range(num1, num2 + 1):\n",
        "   # all prime numbers are greater than 1\n",
        "   if num > 1:\n",
        "       for i in range(2, num):\n",
        "           if (num % i) == 0:\n",
        "               break\n",
        "       else:\n",
        "           print(num)\n",
        "           "
      ],
      "execution_count": 63,
      "outputs": [
        {
          "output_type": "stream",
          "text": [
            "Enter the lower number :- 2\n",
            "Enter the Upper number :- 50\n",
            "Prime numbers between 2 and 50 are :-\n",
            "2\n",
            "3\n",
            "5\n",
            "7\n",
            "11\n",
            "13\n",
            "17\n",
            "19\n",
            "23\n",
            "29\n",
            "31\n",
            "37\n",
            "41\n",
            "43\n",
            "47\n"
          ],
          "name": "stdout"
        }
      ]
    },
    {
      "cell_type": "markdown",
      "metadata": {
        "id": "Ob_yPo4lgfGW"
      },
      "source": [
        "Following is the provided numPy array. return array of items in the third column\n",
        "from all rows\n",
        "\n",
        "import numpy\n",
        "\n",
        "sampleArray = numpy.array([[11 ,22, 33], [44, 55, 66], [77, 88, 99]])"
      ]
    },
    {
      "cell_type": "code",
      "metadata": {
        "id": "3OU1zZNMgm5x",
        "outputId": "636ad6f3-c1ee-440c-8671-65f9dd9759c0",
        "colab": {
          "base_uri": "https://localhost:8080/"
        }
      },
      "source": [
        "import numpy as np\n",
        "\n",
        "sampleArray = np.array([[11,22,33],[44,55,66],[77,88,99]])\n",
        "print(sampleArray[:,2])"
      ],
      "execution_count": 68,
      "outputs": [
        {
          "output_type": "stream",
          "text": [
            "[33 66 99]\n"
          ],
          "name": "stdout"
        }
      ]
    },
    {
      "cell_type": "markdown",
      "metadata": {
        "id": "LKwgZ5m7hmEr"
      },
      "source": [
        "Create a 4X2 integer array and Prints its attributes"
      ]
    },
    {
      "cell_type": "code",
      "metadata": {
        "id": "BRYglTSnhq6G",
        "outputId": "754571fb-6988-40a3-9a39-913b9a9005ee",
        "colab": {
          "base_uri": "https://localhost:8080/"
        }
      },
      "source": [
        "import numpy as np\n",
        "\n",
        "Array1 = np.random.randint(10, size=(4, 2)) \n",
        "print(\"Printing Array :- \")\n",
        "print(Array1)\n",
        "\n",
        "print(\"Printing numpy array Attributes\")\n",
        "print(\"1). Array Shape is: \", Array1.shape)\n",
        "print(\"2). Array dimensions are \", Array1.ndim)\n",
        "print(\"3). Length of each element of array in bytes is \", Array1.itemsize)"
      ],
      "execution_count": 79,
      "outputs": [
        {
          "output_type": "stream",
          "text": [
            "Printing Array :- \n",
            "[[2 7]\n",
            " [8 6]\n",
            " [0 6]\n",
            " [0 7]]\n",
            "Printing numpy array Attributes\n",
            "1). Array Shape is:  (4, 2)\n",
            "2). Array dimensions are  2\n",
            "3). Length of each element of array in bytes is  8\n"
          ],
          "name": "stdout"
        }
      ]
    }
  ]
}