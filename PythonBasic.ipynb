{
  "nbformat": 4,
  "nbformat_minor": 0,
  "metadata": {
    "colab": {
      "name": "PythonBasic.ipynb",
      "provenance": [],
      "collapsed_sections": [],
      "authorship_tag": "ABX9TyPVYtsf/g78mSSwo5DQz5qM",
      "include_colab_link": true
    },
    "kernelspec": {
      "name": "python3",
      "display_name": "Python 3"
    }
  },
  "cells": [
    {
      "cell_type": "markdown",
      "metadata": {
        "id": "view-in-github",
        "colab_type": "text"
      },
      "source": [
        "<a href=\"https://colab.research.google.com/github/tusharbhadak/Python/blob/main/PythonBasic.ipynb\" target=\"_parent\"><img src=\"https://colab.research.google.com/assets/colab-badge.svg\" alt=\"Open In Colab\"/></a>"
      ]
    },
    {
      "cell_type": "code",
      "metadata": {
        "id": "ZrgqV1KO7UE2",
        "outputId": "0ab2a9cd-8759-4230-ad87-9c570a21daeb",
        "colab": {
          "base_uri": "https://localhost:8080/",
          "height": 425
        }
      },
      "source": [
        "from array import *\n",
        "\n",
        "msc = array('i',[1,2,3,4,5])\n",
        "for i in msc:\n",
        "  print(i)\n",
        "  \n",
        "print(\"------access-----\")\n",
        "print(msc[3])\n",
        "\n",
        "print(\"---append----\")\n",
        "msc.append(6)\n",
        "print(msc)\n",
        "\n",
        "print(\"---delete---\")\n",
        "del msc[3]\n",
        "print(msc)\n",
        "\n",
        "print(\"---index----\")\n",
        "print(\"First Element :-> \",msc[0])\n",
        "print(\"First Element :-> \",msc[-5]) #backward indexing\n",
        "\n",
        "print(\"---indexing----\")\n",
        "number = array(\"i\",[1,2,3,4,5,6,7,8,9])\n",
        "print(number)\n",
        "print(number[:-5])\n",
        "\n",
        "\n",
        "print(\"----list----\")\n",
        "mylist = ['H','E','L','L','O']\n",
        "print(mylist)\n",
        "\n",
        "#UPPERCASE\n",
        "print(\"---UPPERCASE---\")\n",
        "st=\"AbCd\"\n",
        "print(st.upper())\n",
        "#lowercase\n",
        "print(st.lower())\n",
        "#checking the string is in uppercase or not.\n",
        "print(st.isupper())\n",
        "#checking the string is in uppercase or not.\n",
        "print(st.islower())"
      ],
      "execution_count": null,
      "outputs": [
        {
          "output_type": "stream",
          "text": [
            "1\n",
            "2\n",
            "3\n",
            "4\n",
            "5\n",
            "------access-----\n",
            "4\n",
            "---append----\n",
            "array('i', [1, 2, 3, 4, 5, 6])\n",
            "---delete---\n",
            "array('i', [1, 2, 3, 5, 6])\n",
            "---index----\n",
            "First Element :->  1\n",
            "First Element :->  1\n",
            "---indexing----\n",
            "array('i', [1, 2, 3, 4, 5, 6, 7, 8, 9])\n",
            "array('i', [1, 2, 3, 4])\n",
            "----list----\n",
            "['H', 'E', 'L', 'L', 'O']\n",
            "---UPPERCASE---\n",
            "ABCD\n",
            "abcd\n",
            "False\n",
            "False\n"
          ],
          "name": "stdout"
        }
      ]
    },
    {
      "cell_type": "markdown",
      "metadata": {
        "id": "MbEFsphzU7VJ"
      },
      "source": [
        "**Python 3**\n",
        "\n",
        "-> Python was invented by Guido Van Rossum in 1991.\n",
        "\n",
        "-> Python is easy to learn and popular programming language.\n",
        "\n",
        "-> Free and Open Source.\n",
        "\n",
        "-> File extension which is used by Python source file is “.py” \n",
        "\n",
        "-> Case sensitive"
      ]
    },
    {
      "cell_type": "code",
      "metadata": {
        "id": "pbHZ3zXlU710",
        "outputId": "c233de08-58f8-4df6-aac2-92a27a792279",
        "colab": {
          "base_uri": "https://localhost:8080/",
          "height": 85
        }
      },
      "source": [
        "#Print function\n",
        "#Syntax - print()\n",
        "# '#' used for commenting single line (shortcut key - Ctrl+1). For multi-line comments used Ctrl+4.\n",
        "\n",
        "print(\"Hello\")\n",
        "print('Welcome')\n",
        "\n",
        "#Case sensitive example\n",
        "a=10\n",
        "A=20\n",
        "print(a)\n",
        "print(A)"
      ],
      "execution_count": 5,
      "outputs": [
        {
          "output_type": "stream",
          "text": [
            "Hello\n",
            "Welcome\n",
            "10\n",
            "20\n"
          ],
          "name": "stdout"
        }
      ]
    },
    {
      "cell_type": "markdown",
      "metadata": {
        "id": "01SgTm0CYsW5"
      },
      "source": [
        "**Variables :-**\n",
        "\n",
        "->Variable is nothing but, the value that we assign for a letter or word.\n",
        "\n",
        "-> Python is dynamically typed, which means that you don't have to declare what type each variable is."
      ]
    },
    {
      "cell_type": "code",
      "metadata": {
        "id": "FMzqgOXsZdbC",
        "outputId": "579ed1a4-d361-414d-f763-2f23201ef6d2",
        "colab": {
          "base_uri": "https://localhost:8080/",
          "height": 51
        }
      },
      "source": [
        "#Variables\n",
        "#Rules for variables :-\n",
        "# 1. A variable must start with a letter or a underscore character & 2. Variable names are case sensitive.\n",
        "age=10\n",
        "_age=20  #case sensitive\n",
        "AGE=30\n",
        "print(a)\n",
        "print(_a)\n",
        "Print(AGE)\n",
        "\n",
        "# 3. A variable cannot start with a number.\n",
        "\"\"\"\n",
        "1a=10\n",
        "print(1a)\n",
        "\"\"\"\n",
        "\n",
        "# 4. Variable name can only contain alpha numeric characters and underscores.(a-z, A-Z, 0-9, _)."
      ],
      "execution_count": 6,
      "outputs": [
        {
          "output_type": "stream",
          "text": [
            "10\n",
            "20\n"
          ],
          "name": "stdout"
        }
      ]
    },
    {
      "cell_type": "markdown",
      "metadata": {
        "id": "pEVhdj96bIiU"
      },
      "source": [
        "**Data Types in Python**\n",
        "\n",
        "Python has 6 data types :-\n",
        "-> Number\n",
        "\n",
        "-> String\n",
        "\n",
        "-> List\n",
        "\n",
        "-> Tuple\n",
        "\n",
        "-> Dictionary\n",
        "\n",
        "-> Sets"
      ]
    },
    {
      "cell_type": "code",
      "metadata": {
        "id": "9ZEvIQDnbecu",
        "outputId": "7f67ccd1-bc9e-4f6b-b17a-4edef51cf0d9",
        "colab": {
          "base_uri": "https://localhost:8080/",
          "height": 102
        }
      },
      "source": [
        "#Number - stores the numeric value.\n",
        "# 4 different numerical types:-\n",
        "\n",
        "# Int\n",
        "a=10\n",
        "print(type(a))  #type() method returns class type of the argument(object) passed as parameter\n",
        "\n",
        "#Float\n",
        "A=10.0\n",
        "print(type(A))\n",
        "\n",
        "#Long\n",
        "#there is no 'long' in python 3, but it was supported in python 2. Because python2 supports only 2 types - int and long.\n",
        "\n",
        "#Complex\n",
        "_a=3.14j\n",
        "print(type(_a))\n",
        "\n",
        "#It is possible to represent an integer in hexa-decimal or octal form\n",
        "num=0xA0F  #Hexa-decimal\n",
        "print(num)\n",
        "\n",
        "NUM=0o37   #Octal\n",
        "print(NUM)"
      ],
      "execution_count": 8,
      "outputs": [
        {
          "output_type": "stream",
          "text": [
            "<class 'int'>\n",
            "<class 'float'>\n",
            "<class 'complex'>\n",
            "2575\n",
            "31\n"
          ],
          "name": "stdout"
        }
      ]
    },
    {
      "cell_type": "markdown",
      "metadata": {
        "id": "zumv94zCdoUi"
      },
      "source": [
        "**Number Type Conversion**\n",
        "\n",
        "Python converts numbers internally in an expression containing mixed types to a common type for evaluation. Sometimes, you need to coerce a number explicitly from one type to another to satisfy the requirements of an operator or function parameter."
      ]
    },
    {
      "cell_type": "code",
      "metadata": {
        "id": "VE2qI3ZtdwOM",
        "outputId": "fbb4e67a-4866-4684-d89b-6b37ecb36046",
        "colab": {
          "base_uri": "https://localhost:8080/",
          "height": 85
        }
      },
      "source": [
        "a=10.0523\n",
        "print(int(a))         # Type int(x) to convert x to a plain integer.\n",
        "#print(long(a))       # Type long(x) to convert x to a long integer.\n",
        "print(float(a))       # Type float(x) to convert x to a floating-point number.\n",
        "print(complex(a))     # Type complex(x) to convert x to a complex number with real part x and imaginary part zero.\n"
      ],
      "execution_count": 11,
      "outputs": [
        {
          "output_type": "stream",
          "text": [
            "10\n",
            "10.0523\n",
            "(10.0523+0j)\n",
            "10.0523\n"
          ],
          "name": "stdout"
        }
      ]
    },
    {
      "cell_type": "markdown",
      "metadata": {
        "id": "Y4eoB4fFeYNT"
      },
      "source": [
        "**String**\n",
        "\n",
        "string literal in python are surrounded by either single quote or double quotes."
      ]
    },
    {
      "cell_type": "code",
      "metadata": {
        "id": "biNJjYTBe1zL",
        "outputId": "9ca93ba8-831b-4129-df2d-7eb33fa1ccc4",
        "colab": {
          "base_uri": "https://localhost:8080/",
          "height": 119
        }
      },
      "source": [
        "#String\n",
        "a='PYTHON 3'\n",
        "b=\"Welcome to basics of Python 3 by Tushar\"\n",
        "print(a)\n",
        "print(type(a))\n",
        "print(b)\n",
        "print(type(b))\n",
        "\n",
        "# Is it possible to use triple quotes? Let's see\n",
        "_a =\"\"\" Hello Everyone\"\"\"\n",
        "print(_a)\n",
        "print(type(_a))"
      ],
      "execution_count": 17,
      "outputs": [
        {
          "output_type": "stream",
          "text": [
            "PYTHON 3\n",
            "<class 'str'>\n",
            "Welcome to basics of Python 3 by Tushar\n",
            "<class 'str'>\n",
            " Hello Everyone\n",
            "<class 'str'>\n"
          ],
          "name": "stdout"
        }
      ]
    },
    {
      "cell_type": "markdown",
      "metadata": {
        "id": "BhwVG9h4fukl"
      },
      "source": [
        "**List**\n",
        "\n",
        "-> List is a collection which is ordered and changeable.\n",
        "\n",
        "-> It allows duplicate members.\n",
        "\n",
        "-> In Python lists are written with square brackets. '[]'"
      ]
    },
    {
      "cell_type": "code",
      "metadata": {
        "id": "ANuHFxUqgDju",
        "outputId": "3e5dc023-7676-4bab-8ecc-6b3a6c0c7d45",
        "colab": {
          "base_uri": "https://localhost:8080/",
          "height": 255
        }
      },
      "source": [
        "#List\n",
        "Fruit=['Apple','Banana','Cherry','Mango','Apple']\n",
        "print(Fruit)\n",
        "print(type(Fruit))\n",
        "\n",
        "#Some List methods :-\n",
        "print('-----Append method-----')\n",
        "# 1. Append method - add new item in list\n",
        "# Syntax - append()\n",
        "Fruit.append('Kiwi')\n",
        "print(Fruit)\n",
        "\n",
        "print('-----Copy method-----')\n",
        "# 2. Copy method - copy the whole list\n",
        "# Syntax - copy()\n",
        "X=Fruit.copy()\n",
        "print(X)\n",
        "\n",
        "print('-----Count method-----')\n",
        "# 3. Count method - returns the number of elements with specified value\n",
        "# Syntax - count()\n",
        "X=Fruit.count('Apple')\n",
        "print(X)\n",
        "\n",
        "print('-----Extend method-----')\n",
        "# 4. Extend method - adds the specified list elemnts(or any iterable) to the end of current list\n",
        "# Syntax - extend()\n",
        "num=(10,20,30,45)\n",
        "Fruit.extend(num)\n",
        "print(Fruit)\n",
        "\n",
        "print('-----Index method-----')\n",
        "# 5. Index method - returns index of the first element of specified value\n",
        "# Syntax - index()\n",
        "_x=Fruit.index('Apple')\n",
        "print(_x)\n",
        "\n",
        "\n",
        "print('-----Clear method-----')\n",
        "# 6. Clear method - removes all the element from list\n",
        "# Syntax - clear()\n",
        "Fruit.clear()\n",
        "print(Fruit)\n",
        "\n",
        "# There are more methods such as Insert, Pop, Remove, Reverse, Sort, Concatenate. Try it by yourself."
      ],
      "execution_count": 27,
      "outputs": [
        {
          "output_type": "stream",
          "text": [
            "['Apple', 'Banana', 'Cherry', 'Mango', 'Apple']\n",
            "<class 'list'>\n",
            "-----Append method-----\n",
            "['Apple', 'Banana', 'Cherry', 'Mango', 'Apple', 'Kiwi']\n",
            "-----Copy method-----\n",
            "['Apple', 'Banana', 'Cherry', 'Mango', 'Apple', 'Kiwi']\n",
            "-----Count method-----\n",
            "2\n",
            "-----Extend method-----\n",
            "['Apple', 'Banana', 'Cherry', 'Mango', 'Apple', 'Kiwi', 10, 20, 30, 45]\n",
            "-----Index method-----\n",
            "0\n",
            "-----Clear method-----\n",
            "[]\n"
          ],
          "name": "stdout"
        }
      ]
    },
    {
      "cell_type": "markdown",
      "metadata": {
        "id": "tru3CoNTjHhc"
      },
      "source": [
        "**Tuple**\n",
        "\n",
        "-> Tuple is a collection which is ordered and unchangeable.\n",
        "\n",
        "-> In Python tuples are written in round brackets. '()'"
      ]
    },
    {
      "cell_type": "code",
      "metadata": {
        "id": "OZ4svESyjqyH",
        "outputId": "8f9e7e9a-8dfc-4bf5-a298-f4134b4ab79e",
        "colab": {
          "base_uri": "https://localhost:8080/",
          "height": 51
        }
      },
      "source": [
        "#Tuple\n",
        "\n",
        "thistuple = (1,2,3,4)\n",
        "print(thistuple)\n",
        "print(type(thistuple))\n",
        "\n",
        "#Tuple has also count method and index method."
      ],
      "execution_count": 28,
      "outputs": [
        {
          "output_type": "stream",
          "text": [
            "(1, 2, 3, 4)\n",
            "<class 'tuple'>\n"
          ],
          "name": "stdout"
        }
      ]
    },
    {
      "cell_type": "markdown",
      "metadata": {
        "id": "ZUNVGJXVkIfQ"
      },
      "source": [
        "**Dictionary**\n",
        "\n",
        "-> It is a collection which is unordered, changeable and indexed.\n",
        "\n",
        "-> In Python, Dictionaries are written with curly brackets. '{}'\n",
        "\n",
        "-> It has Key and value pair.\n",
        "\n",
        "-> We can access the items of a dictionary by referring to its key name, inside square brackets. "
      ]
    },
    {
      "cell_type": "code",
      "metadata": {
        "id": "DxSy5_53kiX4",
        "outputId": "0b9209c3-66f4-4495-8855-c3f93677c0e8",
        "colab": {
          "base_uri": "https://localhost:8080/",
          "height": 85
        }
      },
      "source": [
        "#Dictionary\n",
        "\n",
        "car={'Brand':'BMW','Model':'X6', 'Year':2019}\n",
        "print(car)\n",
        "print(type(car))\n",
        "\n",
        "#Dictionary Methods\n",
        "# It also has methods like clear, copy, items, popitem, setdefault, update, values\n",
        "\n",
        "# Items method\n",
        "print(car.items())\n",
        "\n",
        "#Value method\n",
        "print(car.values())"
      ],
      "execution_count": 33,
      "outputs": [
        {
          "output_type": "stream",
          "text": [
            "{'Brand': 'BMW', 'Model': 'X6', 'Year': 2019}\n",
            "<class 'dict'>\n",
            "dict_items([('Brand', 'BMW'), ('Model', 'X6'), ('Year', 2019)])\n",
            "dict_values(['BMW', 'X6', 2019])\n"
          ],
          "name": "stdout"
        }
      ]
    },
    {
      "cell_type": "markdown",
      "metadata": {
        "id": "JsdOmsiFmlFZ"
      },
      "source": [
        "**Set**\n",
        "\n",
        "-> A Set is a collection which is unordered (items will appear in random number) and unidexed.\n",
        "\n",
        "-> In Python, set are written with curly brackets. '{}'"
      ]
    },
    {
      "cell_type": "code",
      "metadata": {
        "id": "sIIZDvvxm7YJ",
        "outputId": "8f75dd7a-fb7c-4e22-d7dc-81068ebd7b29",
        "colab": {
          "base_uri": "https://localhost:8080/",
          "height": 51
        }
      },
      "source": [
        "# Set\n",
        "\n",
        "comp={'Microsoft','Google','IBM'}\n",
        "print(comp)\n",
        "print(type(comp))\n",
        "\n",
        "# Set methods also have methods like add(), clear(), discard(), pop(), remove(), update(), difference_update(), union(), intersection(), symmetric_difference(), isdisjoint(), issubset()"
      ],
      "execution_count": 35,
      "outputs": [
        {
          "output_type": "stream",
          "text": [
            "{'Google', 'Microsoft', 'IBM'}\n",
            "<class 'set'>\n"
          ],
          "name": "stdout"
        }
      ]
    },
    {
      "cell_type": "markdown",
      "metadata": {
        "id": "IdlOwFSSpbgr"
      },
      "source": [
        ""
      ]
    }
  ]
}